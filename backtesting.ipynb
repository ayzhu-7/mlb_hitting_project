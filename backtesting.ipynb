{
 "cells": [
  {
   "cell_type": "code",
   "execution_count": 1,
   "id": "a5b0e789",
   "metadata": {},
   "outputs": [],
   "source": [
    "import pandas as pd\n",
    "import numpy as np # type: ignore\n",
    "from pybaseball import *\n",
    "import statsapi\n",
    "import os\n",
    "\n",
    "from pull_data import *\n",
    "%load_ext autoreload\n",
    "%autoreload 2\n",
    "import requests\n",
    "\n",
    "from pybaseball import cache\n",
    "cache.enable()"
   ]
  },
  {
   "cell_type": "code",
   "execution_count": 2,
   "id": "10b53891",
   "metadata": {},
   "outputs": [],
   "source": [
    "pd.set_option('display.max_columns', None)\n",
    "pd.set_option('display.float_format', '{:.2f}'.format)\n",
    "\n",
    "team_ids = [138, 140, 145, 110, 111, 144, 158, 143, 133, 141, 108, 114, 115, 121, 137, 146, 116, 118, 139, 117, 113, 112, 142, 136, 120, 109, 134, 135, 147, 119]"
   ]
  },
  {
   "cell_type": "code",
   "execution_count": null,
   "id": "5b70c93a",
   "metadata": {},
   "outputs": [],
   "source": [
    "# Update roster player ids\n",
    "reload = False\n",
    "if reload:\n",
    "    player_id_mapping = map_player_ids(team_ids)\n",
    "else:\n",
    "    player_id_mapping = pd.read_csv('player_id_mapping.csv')"
   ]
  },
  {
   "cell_type": "code",
   "execution_count": null,
   "id": "a6dc5f23",
   "metadata": {},
   "outputs": [],
   "source": [
    "player_ids = player_id_mapping['player_id'].tolist()\n",
    "get_hitter_history = False\n",
    "if get_hitter_history:\n",
    "    hitter_history = pd.DataFrame()\n",
    "    for i in range(0, len(player_ids), 100):\n",
    "        player_ids_sublist = player_ids[i:i+100]\n",
    "        if i == 0:\n",
    "            hitter_history = get_all_hitter_history(player_ids_sublist, '2025-03-26', '2025-06-04')\n",
    "        else:\n",
    "            hitter_history = pd.merge(hitter_history, get_all_hitter_history(player_ids_sublist, '2025-03-26', '2025-06-04'), on='date', how='left')\n",
    "    hitter_history.to_csv('hitter_history.csv', index=False)\n",
    "else:\n",
    "    hitter_history = pd.read_csv('hitter_history.csv')"
   ]
  }
 ],
 "metadata": {
  "kernelspec": {
   "display_name": ".venv",
   "language": "python",
   "name": "python3"
  },
  "language_info": {
   "codemirror_mode": {
    "name": "ipython",
    "version": 3
   },
   "file_extension": ".py",
   "mimetype": "text/x-python",
   "name": "python",
   "nbconvert_exporter": "python",
   "pygments_lexer": "ipython3",
   "version": "3.12.0"
  }
 },
 "nbformat": 4,
 "nbformat_minor": 5
}
